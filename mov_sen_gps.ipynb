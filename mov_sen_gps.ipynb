{
 "cells": [
  {
   "cell_type": "code",
   "execution_count": 58,
   "metadata": {},
   "outputs": [],
   "source": [
    "import csv\n",
    "import turicreate as tc\n",
    "from turicreate import SFrame, SArray\n",
    "from math import sin, cos, sqrt, atan2, radians\n",
    "from scipy.spatial import distance\n",
    "import difflib\n",
    "\n",
    "import numpy as np\n",
    "import matplotlib.pyplot as plt\n",
    "\n",
    "from sklearn.cluster import KMeans\n",
    "from sklearn.cluster import SpectralClustering\n",
    "from sklearn.decomposition import PCA\n",
    "from sklearn import metrics\n",
    "from sklearn.metrics import mean_squared_error\n",
    "from sklearn.metrics import pairwise_distances\n",
    "from sklearn.cluster import AgglomerativeClustering\n",
    "from sklearn.mixture import GaussianMixture\n",
    "from sklearn.cluster import FeatureAgglomeration"
   ]
  },
  {
   "cell_type": "code",
   "execution_count": 13,
   "metadata": {},
   "outputs": [],
   "source": [
    "gps_cat = ['ts', 'sensorid', 'gpslat', 'gpslon']\n",
    "gps_sen = ['ts', 'sensorid', 'mac']\n",
    "csv_gps = 'mov_gps.csv'\n",
    "csv_sen = 'mov_sensing.csv'"
   ]
  },
  {
   "cell_type": "code",
   "execution_count": 230,
   "metadata": {},
   "outputs": [],
   "source": [
    "def load_data(input_csv, gps):\n",
    "    with open(input_csv) as csvfile:\n",
    "        reader = csv.reader(csvfile, delimiter=' ')\n",
    "        count = 0\n",
    "        line = []\n",
    "        for row in reader:\n",
    "            row[1] = row[1].split(';')\n",
    "            if '' in row[1]:\n",
    "                row[1].remove('')\n",
    "            row[1].insert(0, row[0])\n",
    "            del(row[1][2:4])\n",
    "            if(gps):\n",
    "                del(row[1][4:])\n",
    "            else:\n",
    "                del(row[1][3:])\n",
    "            line.append(row[1])\n",
    "        return line\n",
    "    \n",
    "# Create SFrame for gps data and sensing data\n",
    "def create_frame(list_data, name):\n",
    "    list_date = []\n",
    "    list_time = []\n",
    "    if 'gps' in name:\n",
    "        list_lat = []\n",
    "        list_lon = []\n",
    "        for data in list_data:\n",
    "        # Iterate thourgh the whole list of gps_data and extract values accordingly\n",
    "            list_date.append(data[0])\n",
    "            list_time.append(data[1])\n",
    "            list_lat.append(data[2])\n",
    "            list_lon.append(data[3])\n",
    "        return SFrame({'date':list_date, 'time':list_time, 'lat': list_lat, 'lon':list_lon})\n",
    "    else:\n",
    "        list_mac = []\n",
    "        for data in list_data:\n",
    "        # Iterate thourgh the whole list of gps_data and extract values accordingly\n",
    "            list_date.append(data[0])\n",
    "            list_time.append(data[1])\n",
    "            list_mac.append(data[2])\n",
    "        return SFrame({'date':list_date, 'time':list_time, 'mac':list_mac})\n",
    "    \n",
    "def check_error(count, mac, date):\n",
    "    amount = 0\n",
    "    for item in sen_frame:\n",
    "        if item['mac'] == mac and item['date'] == date:\n",
    "            amount+=1\n",
    "    if amount != count:\n",
    "        print(mac, date)\n",
    "\n",
    "def check_last_index(a, element):\n",
    "    index = -1\n",
    "    position = 0\n",
    "    for item in a:\n",
    "        if item == element:\n",
    "            index = position\n",
    "        position+=1\n",
    "    return index\n",
    "\n",
    "def time_convert(time):\n",
    "    s_list = time.split(':')\n",
    "    if len(s_list) == 3:\n",
    "        return 3600*float(s_list[0]) + 60*float(s_list[1]) + float(s_list[2])\n",
    "    else:\n",
    "        return 3600*float(s_list[0]) + 60*float(s_list[1])\n",
    "\n",
    "def time_difference(time1, time2):\n",
    "    return time_convert(time2) - time_convert(time1)\n",
    "\n",
    "def find(tag1, con1, tag2, con2):\n",
    "    for item in data:\n",
    "        if item[tag1] == con1 and item[tag2] == con2:\n",
    "            print(item)\n",
    "\n",
    "def find_distance(s_lat, s_lon, e_lat, e_lon):\n",
    "    R = 6373.0\n",
    "\n",
    "    lat1 = radians(s_lat)\n",
    "    lon1 = radians(s_lon)\n",
    "    lat2 = radians(e_lat)\n",
    "    lon2 = radians(e_lon)\n",
    "\n",
    "    dlon = lon2 - lon1\n",
    "    dlat = lat2 - lat1\n",
    "\n",
    "    a = sin(dlat / 2)**2 + cos(lat1) * cos(lat2) * sin(dlon / 2)**2\n",
    "    c = 2 * atan2(sqrt(a), sqrt(1 - a))\n",
    "\n",
    "    return R * c * 1000\n",
    "\n",
    "def compute_data_difference(set1, set2):\n",
    "    cumulative = 0\n",
    "    summation = 0\n",
    "    for i, j in zip(set1, set2):\n",
    "        cumulative += (i-j)**2\n",
    "        if j != 0:\n",
    "            summation += i/j\n",
    "        else:\n",
    "            summation += i/1\n",
    "    scalor = summation / len(set1)\n",
    "    return sqrt(cumulative), scalor\n",
    "\n",
    "def normalize(v):\n",
    "    largest = v.max()\n",
    "    if largest == 0: \n",
    "        return v\n",
    "    return v / largest\n",
    "\n",
    "# Compute the Silhouette Coefficient\n",
    "def compute_Sil_socre(data, labels):\n",
    "    score = metrics.silhouette_score(pca, labels, metric='euclidean')\n",
    "    print(score)\n",
    "    \n",
    "def format_transform(date):\n",
    "    temp = date.split('/')\n",
    "    if len(temp[1]) == 2:\n",
    "        return '20' + temp[2] + '-0' + temp[0] + '-' + temp[1]\n",
    "    else:\n",
    "        return '20' + temp[2] + '-0' + temp[0] + '-0' + temp[1]\n",
    "\n",
    "def computePassen(labels):  \n",
    "    count = 0\n",
    "    for i in range(len(labels)):\n",
    "        if labels[i] == 1:\n",
    "            count+=1\n",
    "    print(count)\n",
    "\n",
    "def evaluate(a, b):\n",
    "    score_mape = mape(a, b)\n",
    "    score_mse = mse(a, b)\n",
    "    print(\"Mean Abosulute Percentage Error: \", score_mape)\n",
    "    print(\"Mean Square Error: \", score_mse)\n",
    "\n",
    "def mape(a, b): \n",
    "    mask = a != 0\n",
    "    a = a.apply(lambda i: 1 if i == 0 else i)\n",
    "    return (np.fabs(a - b)/a)[mask].mean()\n",
    "\n",
    "def mse(a, b):\n",
    "    return mean_squared_error(a, b)\n",
    "\n",
    "def find_best_model(model, times):\n",
    "    lowest_MSE = 1000000\n",
    "    final_result = []\n",
    "    target_train = []\n",
    "    target_test = []\n",
    "    for i in range(times):\n",
    "        train_data, test_data = model.random_split(.8, seed=1)\n",
    "        psen_model = tc.regression.create(train_data, target='label', \n",
    "                                                        features=['count'], verbose=False)\n",
    "        result = psen_model.predict(test_data)\n",
    "        score = mse(test_data['label'], result)\n",
    "        if score < lowest_MSE:\n",
    "            final_result = result\n",
    "            lowest_MSE = score\n",
    "            target_train = train_data\n",
    "            target_test = test_data\n",
    "    return psen_model, target_train, target_test, final_result\n",
    "\n",
    "def multiply(a, scalor):\n",
    "    for i in range(len(a)):\n",
    "        a[i] = int(round(a[i] * scalor))\n",
    "    return a\n",
    "    "
   ]
  },
  {
   "cell_type": "code",
   "execution_count": 247,
   "metadata": {},
   "outputs": [],
   "source": [
    "gps_data = load_data(csv_gps, True)\n",
    "sen_data = load_data(csv_sen, False)"
   ]
  },
  {
   "cell_type": "code",
   "execution_count": 248,
   "metadata": {},
   "outputs": [],
   "source": [
    "gps_frame = create_frame(gps_data, 'gps')\n",
    "sen_frame = create_frame(sen_data, 'sensing')\n",
    "gps_frame = gps_frame.unique()\n",
    "gps_frame = gps_frame.sort(['date', 'time'])\n",
    "sen_frame = sen_frame.unique()\n",
    "sen_frame = sen_frame.sort(['date', 'time'])"
   ]
  },
  {
   "cell_type": "code",
   "execution_count": 251,
   "metadata": {},
   "outputs": [],
   "source": [
    "list_time = []\n",
    "for i in range(len(sen_frame)):\n",
    "    time = sen_frame[i]['time'].split(':')\n",
    "    time[2] = time[2].split('.')\n",
    "    time[2] = int(time[2][0]) + round(float('0.' + time[2][0]))\n",
    "    time[2] = str(time[2])\n",
    "    if len(time[2]) == 1:\n",
    "        time[2] = '0' + time[2]\n",
    "    time = ''+time[0]+':'+time[1]+':'+str(time[2])\n",
    "    list_time.append(time)\n",
    "temp = SFrame({'time': list_time})\n",
    "sen_frame = sen_frame.remove_columns(['time'])\n",
    "sen_frame = sen_frame.add_columns(temp)"
   ]
  },
  {
   "cell_type": "code",
   "execution_count": 253,
   "metadata": {},
   "outputs": [
    {
     "data": {
      "text/html": [
       "<div style=\"max-height:1000px;max-width:1500px;overflow:auto;\"><table frame=\"box\" rules=\"cols\">\n",
       "    <tr>\n",
       "        <th style=\"padding-left: 1em; padding-right: 1em; text-align: center\">date</th>\n",
       "        <th style=\"padding-left: 1em; padding-right: 1em; text-align: center\">lat</th>\n",
       "        <th style=\"padding-left: 1em; padding-right: 1em; text-align: center\">lon</th>\n",
       "        <th style=\"padding-left: 1em; padding-right: 1em; text-align: center\">time</th>\n",
       "    </tr>\n",
       "    <tr>\n",
       "        <td style=\"padding-left: 1em; padding-right: 1em; text-align: center; vertical-align: top\">2018-02-26</td>\n",
       "        <td style=\"padding-left: 1em; padding-right: 1em; text-align: center; vertical-align: top\">47.654353000</td>\n",
       "        <td style=\"padding-left: 1em; padding-right: 1em; text-align: center; vertical-align: top\">-122.321023667</td>\n",
       "        <td style=\"padding-left: 1em; padding-right: 1em; text-align: center; vertical-align: top\">11:01:10</td>\n",
       "    </tr>\n",
       "    <tr>\n",
       "        <td style=\"padding-left: 1em; padding-right: 1em; text-align: center; vertical-align: top\">2018-02-26</td>\n",
       "        <td style=\"padding-left: 1em; padding-right: 1em; text-align: center; vertical-align: top\">47.654380500</td>\n",
       "        <td style=\"padding-left: 1em; padding-right: 1em; text-align: center; vertical-align: top\">-122.321045000</td>\n",
       "        <td style=\"padding-left: 1em; padding-right: 1em; text-align: center; vertical-align: top\">11:01:11</td>\n",
       "    </tr>\n",
       "    <tr>\n",
       "        <td style=\"padding-left: 1em; padding-right: 1em; text-align: center; vertical-align: top\">2018-02-26</td>\n",
       "        <td style=\"padding-left: 1em; padding-right: 1em; text-align: center; vertical-align: top\">47.654387667</td>\n",
       "        <td style=\"padding-left: 1em; padding-right: 1em; text-align: center; vertical-align: top\">-122.321049500</td>\n",
       "        <td style=\"padding-left: 1em; padding-right: 1em; text-align: center; vertical-align: top\">11:01:12</td>\n",
       "    </tr>\n",
       "    <tr>\n",
       "        <td style=\"padding-left: 1em; padding-right: 1em; text-align: center; vertical-align: top\">2018-02-26</td>\n",
       "        <td style=\"padding-left: 1em; padding-right: 1em; text-align: center; vertical-align: top\">47.654402500</td>\n",
       "        <td style=\"padding-left: 1em; padding-right: 1em; text-align: center; vertical-align: top\">-122.321067500</td>\n",
       "        <td style=\"padding-left: 1em; padding-right: 1em; text-align: center; vertical-align: top\">11:01:13</td>\n",
       "    </tr>\n",
       "    <tr>\n",
       "        <td style=\"padding-left: 1em; padding-right: 1em; text-align: center; vertical-align: top\">2018-02-26</td>\n",
       "        <td style=\"padding-left: 1em; padding-right: 1em; text-align: center; vertical-align: top\">47.654400167</td>\n",
       "        <td style=\"padding-left: 1em; padding-right: 1em; text-align: center; vertical-align: top\">-122.321062000</td>\n",
       "        <td style=\"padding-left: 1em; padding-right: 1em; text-align: center; vertical-align: top\">11:01:13</td>\n",
       "    </tr>\n",
       "    <tr>\n",
       "        <td style=\"padding-left: 1em; padding-right: 1em; text-align: center; vertical-align: top\">2018-02-26</td>\n",
       "        <td style=\"padding-left: 1em; padding-right: 1em; text-align: center; vertical-align: top\">47.654400167</td>\n",
       "        <td style=\"padding-left: 1em; padding-right: 1em; text-align: center; vertical-align: top\">-122.321062000</td>\n",
       "        <td style=\"padding-left: 1em; padding-right: 1em; text-align: center; vertical-align: top\">11:01:14</td>\n",
       "    </tr>\n",
       "    <tr>\n",
       "        <td style=\"padding-left: 1em; padding-right: 1em; text-align: center; vertical-align: top\">2018-02-26</td>\n",
       "        <td style=\"padding-left: 1em; padding-right: 1em; text-align: center; vertical-align: top\">47.654393667</td>\n",
       "        <td style=\"padding-left: 1em; padding-right: 1em; text-align: center; vertical-align: top\">-122.321070000</td>\n",
       "        <td style=\"padding-left: 1em; padding-right: 1em; text-align: center; vertical-align: top\">11:01:14</td>\n",
       "    </tr>\n",
       "    <tr>\n",
       "        <td style=\"padding-left: 1em; padding-right: 1em; text-align: center; vertical-align: top\">2018-02-26</td>\n",
       "        <td style=\"padding-left: 1em; padding-right: 1em; text-align: center; vertical-align: top\">47.654391167</td>\n",
       "        <td style=\"padding-left: 1em; padding-right: 1em; text-align: center; vertical-align: top\">-122.321064000</td>\n",
       "        <td style=\"padding-left: 1em; padding-right: 1em; text-align: center; vertical-align: top\">11:01:15</td>\n",
       "    </tr>\n",
       "    <tr>\n",
       "        <td style=\"padding-left: 1em; padding-right: 1em; text-align: center; vertical-align: top\">2018-02-26</td>\n",
       "        <td style=\"padding-left: 1em; padding-right: 1em; text-align: center; vertical-align: top\">47.654393667</td>\n",
       "        <td style=\"padding-left: 1em; padding-right: 1em; text-align: center; vertical-align: top\">-122.321070000</td>\n",
       "        <td style=\"padding-left: 1em; padding-right: 1em; text-align: center; vertical-align: top\">11:01:15</td>\n",
       "    </tr>\n",
       "    <tr>\n",
       "        <td style=\"padding-left: 1em; padding-right: 1em; text-align: center; vertical-align: top\">2018-02-26</td>\n",
       "        <td style=\"padding-left: 1em; padding-right: 1em; text-align: center; vertical-align: top\">47.654391167</td>\n",
       "        <td style=\"padding-left: 1em; padding-right: 1em; text-align: center; vertical-align: top\">-122.321064000</td>\n",
       "        <td style=\"padding-left: 1em; padding-right: 1em; text-align: center; vertical-align: top\">11:01:16</td>\n",
       "    </tr>\n",
       "</table>\n",
       "[12719 rows x 4 columns]<br/>Note: Only the head of the SFrame is printed.<br/>You can use print_rows(num_rows=m, num_columns=n) to print more rows and columns.\n",
       "</div>"
      ],
      "text/plain": [
       "Columns:\n",
       "\tdate\tstr\n",
       "\tlat\tstr\n",
       "\tlon\tstr\n",
       "\ttime\tstr\n",
       "\n",
       "Rows: 12719\n",
       "\n",
       "Data:\n",
       "+------------+--------------+----------------+----------+\n",
       "|    date    |     lat      |      lon       |   time   |\n",
       "+------------+--------------+----------------+----------+\n",
       "| 2018-02-26 | 47.654353000 | -122.321023667 | 11:01:10 |\n",
       "| 2018-02-26 | 47.654380500 | -122.321045000 | 11:01:11 |\n",
       "| 2018-02-26 | 47.654387667 | -122.321049500 | 11:01:12 |\n",
       "| 2018-02-26 | 47.654402500 | -122.321067500 | 11:01:13 |\n",
       "| 2018-02-26 | 47.654400167 | -122.321062000 | 11:01:13 |\n",
       "| 2018-02-26 | 47.654400167 | -122.321062000 | 11:01:14 |\n",
       "| 2018-02-26 | 47.654393667 | -122.321070000 | 11:01:14 |\n",
       "| 2018-02-26 | 47.654391167 | -122.321064000 | 11:01:15 |\n",
       "| 2018-02-26 | 47.654393667 | -122.321070000 | 11:01:15 |\n",
       "| 2018-02-26 | 47.654391167 | -122.321064000 | 11:01:16 |\n",
       "+------------+--------------+----------------+----------+\n",
       "[12719 rows x 4 columns]\n",
       "Note: Only the head of the SFrame is printed.\n",
       "You can use print_rows(num_rows=m, num_columns=n) to print more rows and columns."
      ]
     },
     "execution_count": 253,
     "metadata": {},
     "output_type": "execute_result"
    }
   ],
   "source": [
    "gps_frame"
   ]
  },
  {
   "cell_type": "code",
   "execution_count": null,
   "metadata": {},
   "outputs": [],
   "source": [
    "list_lon = []\n",
    "list_lat = []\n",
    "for element in sen_frame:\n",
    "    date = element['date']\n",
    "    time = element['time']\n",
    "    lon = ''\n",
    "    lat = ''\n",
    "    for i in gps_frame:\n",
    "        if i['date'] == date and i['time'] == time:\n",
    "            lon = i['lon']\n",
    "            lat = i['lat']\n",
    "    list_lon.append(lon)\n",
    "    list_lat.append(lat)\n",
    "temp = SFrame({'lon': list_lon, 'lat': list_lat})\n",
    "sen_frame = sen_frame.add_columns(temp)  \n",
    "sen_frame"
   ]
  },
  {
   "cell_type": "code",
   "execution_count": null,
   "metadata": {},
   "outputs": [],
   "source": [
    "sen_frame.print_rows(1000)"
   ]
  },
  {
   "cell_type": "code",
   "execution_count": 16,
   "metadata": {},
   "outputs": [],
   "source": [
    "# For every MAC address, we have to find its time of first detection, and the time for the last detection\n",
    "# Also the latitude and longitude of first and last detection when mapping to gps_data.\n",
    "list_date = []\n",
    "list_mac = []\n",
    "list_start = []\n",
    "list_end = []\n",
    "list_count = []\n",
    "length = 0\n",
    "for element in sen_frame:\n",
    "    date = element['date']\n",
    "    mac = element['mac']\n",
    "    start_time = ''\n",
    "    end_time = ''\n",
    "    count = 0\n",
    "    index_mac = check_last_index(list_mac, mac)\n",
    "    if bool(list_date) == True:\n",
    "        duplicate = (list_date[index_mac] == date)\n",
    "        otherTrip = (time_difference(list_start[index_mac], element['time']) > 2700)\n",
    "    if mac not in list_mac or not duplicate or otherTrip:\n",
    "        list_date.append(date)\n",
    "        list_mac.append(mac)\n",
    "        start_time = element['time']\n",
    "        list_start.append(start_time)\n",
    "        for item in sen_frame[length:]:\n",
    "            inRange = (time_difference(start_time, item['time']) < 2700)\n",
    "            if item['mac'] == mac and item['date'] == date and inRange:\n",
    "                end_time = item['time']\n",
    "                count+=1\n",
    "        list_end.append(end_time)\n",
    "        list_count.append(count)\n",
    "    length+=1\n",
    "        \n",
    "data = SFrame({'mac':list_mac, 'date':list_date, 'start_time':list_start, 'end_time':list_end, 'count':list_count})\n",
    "\n",
    "# Iterate through the data, then iterate through gps_frame\n",
    "# If the date is the same, then check the time interval \n",
    "# The time should be right before start_time, also should be right after end_time\n",
    "start_lon = []\n",
    "end_lon = []\n",
    "start_lat = []\n",
    "end_lat = []\n",
    "for element in data:\n",
    "    move = (time_difference(element['start_time'], element['end_time']) >= 1)\n",
    "    if element['count'] > 1 and move:\n",
    "        start_time = element['start_time']\n",
    "        end_time = element['end_time']\n",
    "        date = element['date']\n",
    "        start_longitude = ''\n",
    "        start_latitude = ''\n",
    "        end_longitude = ''\n",
    "        end_latitude = ''\n",
    "        inplace = True\n",
    "        newDate = True\n",
    "        for item in gps_frame:\n",
    "            if item['date'] == date:\n",
    "                if item['time'] <= start_time:\n",
    "                    start_longitude = item['lon']\n",
    "                    start_latitude = item['lat']\n",
    "                if item['time'] >= end_time and inplace == True:\n",
    "                    end_longitude = item['lon']\n",
    "                    end_latitude = item['lat']\n",
    "                    inplace = False\n",
    "        start_lon.append(start_longitude)\n",
    "        end_lon.append(end_longitude)\n",
    "        start_lat.append(start_latitude)\n",
    "        end_lat.append(end_latitude)\n",
    "    else:\n",
    "        start_lon.append('0')\n",
    "        end_lon.append('0')\n",
    "        start_lat.append('0')\n",
    "        end_lat.append('0')\n",
    "\n",
    "temp = SFrame({'start_longitude':start_lon, 'end_longitude':end_lon, \n",
    "               'start_latitude':start_lat, 'end_latitude':end_lat})\n",
    "data = data.add_columns(temp)\n"
   ]
  },
  {
   "cell_type": "code",
   "execution_count": 18,
   "metadata": {},
   "outputs": [],
   "source": [
    "# Distance\n",
    "list_dis = []\n",
    "for item in data:\n",
    "    s_lat = float(item['start_latitude'])\n",
    "    s_lon = float(item['start_longitude'])\n",
    "    e_lat = float(item['end_latitude'])\n",
    "    e_lon = float(item['end_longitude'])\n",
    "    distance = find_distance(s_lat, s_lon, e_lat, e_lon)\n",
    "    list_dis.append(distance)\n",
    "temp = SFrame({'distance':list_dis})\n",
    "data = data.add_columns(temp)\n",
    "\n",
    "# Duration\n",
    "list_duration = []\n",
    "for element in data:\n",
    "    duration = time_difference(element['start_time'], element['end_time'])\n",
    "    list_duration.append(duration)\n",
    "temp = SFrame({'duration':list_duration})\n",
    "data = data.add_columns(temp)\n",
    "\n",
    "# Speed\n",
    "list_speed = []\n",
    "for element in data:\n",
    "    if element['duration'] == 0:\n",
    "        list_speed.append(0)\n",
    "    else:\n",
    "        speed = element['distance'] / element['duration']\n",
    "        list_speed.append(speed)\n",
    "temp = SFrame({'speed':list_speed})\n",
    "data = data.add_columns(temp)"
   ]
  },
  {
   "cell_type": "code",
   "execution_count": 214,
   "metadata": {},
   "outputs": [],
   "source": [
    "data_kmeans = data.remove_columns(['end_latitude','end_longitude','start_latitude',\n",
    "                                    'start_longitude', 'date', 'start_time', 'end_time', 'mac'])"
   ]
  },
  {
   "cell_type": "code",
   "execution_count": 20,
   "metadata": {},
   "outputs": [],
   "source": [
    "features = ['duration', 'count', 'distance', 'speed']\n",
    "for f in features:\n",
    "    data_kmeans[f] = normalize(data_kmeans[f])"
   ]
  },
  {
   "cell_type": "code",
   "execution_count": 21,
   "metadata": {},
   "outputs": [],
   "source": [
    "input_data = data_kmeans.to_dataframe().values"
   ]
  },
  {
   "cell_type": "code",
   "execution_count": 22,
   "metadata": {},
   "outputs": [
    {
     "data": {
      "image/png": "[encoded data removed]",
      "text/plain": [
       "<Figure size 432x288 with 1 Axes>"
      ]
     },
     "metadata": {
      "needs_background": "light"
     },
     "output_type": "display_data"
    },
    {
     "name": "stdout",
     "output_type": "stream",
     "text": [
      "0.9437813923519338\n",
      "44\n"
     ]
    },
    {
     "data": {
      "image/png": "[encoded data removed]",
      "text/plain": [
       "<Figure size 432x288 with 1 Axes>"
      ]
     },
     "metadata": {
      "needs_background": "light"
     },
     "output_type": "display_data"
    },
    {
     "name": "stdout",
     "output_type": "stream",
     "text": [
      "0.8101334929059139\n",
      "340\n"
     ]
    },
    {
     "data": {
      "image/png": "[encoded data removed]",
      "text/plain": [
       "<Figure size 432x288 with 1 Axes>"
      ]
     },
     "metadata": {
      "needs_background": "light"
     },
     "output_type": "display_data"
    },
    {
     "name": "stdout",
     "output_type": "stream",
     "text": [
      "0.9450503955052012\n",
      "38\n"
     ]
    },
    {
     "data": {
      "image/png": "[encoded data removed]",
      "text/plain": [
       "<Figure size 432x288 with 1 Axes>"
      ]
     },
     "metadata": {
      "needs_background": "light"
     },
     "output_type": "display_data"
    },
    {
     "name": "stdout",
     "output_type": "stream",
     "text": [
      "0.9430799908151131\n",
      "19\n"
     ]
    }
   ],
   "source": [
    "# K-mean application and plotting\n",
    "pca = PCA(n_components=2).fit_transform(input_data)\n",
    "pred = KMeans(n_clusters=2, init='k-means++', n_init=10)\n",
    "pred_kmeans = pred.fit_predict(pca)\n",
    "plt.scatter(pca[:,0], pca[:,1], c=pred_kmeans)\n",
    "plt.show()\n",
    "compute_Sil_socre(pca, pred_kmeans)\n",
    "computePassen(pred_kmeans)\n",
    "\n",
    "# Get the result from Gussian Mixture\n",
    "pred_Gussian = GaussianMixture(n_components = 2).fit_predict(input_data)\n",
    "plt.scatter(pca[:,0], pca[:,1], c=pred_Gussian)\n",
    "plt.show()\n",
    "compute_Sil_socre(pca, pred_Gussian)\n",
    "computePassen(pred_Gussian)\n",
    "\n",
    "# AgglomerativeClustering\n",
    "pred_AC = AgglomerativeClustering(n_clusters=2).fit_predict(pca)\n",
    "plt.scatter(pca[:,0], pca[:,1], c=pred_AC)\n",
    "plt.show()\n",
    "compute_Sil_socre(pca, pred_AC)\n",
    "computePassen(pred_AC)\n",
    "\n",
    "# SpectralClustering\n",
    "pred_SC = SpectralClustering(n_clusters = 2).fit_predict(pca)\n",
    "plt.scatter(pca[:,0], pca[:,1], c=pred_SC)\n",
    "plt.show()\n",
    "compute_Sil_socre(pca, pred_SC)\n",
    "computePassen(pred_SC)"
   ]
  },
  {
   "cell_type": "code",
   "execution_count": 25,
   "metadata": {},
   "outputs": [],
   "source": [
    "# Write a method which can detect how many MACs\n",
    "# are detected at each time stamp\n",
    "def get_labeled_data(pred_label):\n",
    "    temp = SFrame({'passenger': pred_label})\n",
    "    data_regres = data.add_columns(temp)\n",
    "    passen_data = data_regres.remove_columns(['end_latitude','end_longitude','start_latitude',\n",
    "                                    'start_longitude', 'mac', 'count', 'distance', 'duration', 'speed'])\n",
    "    input_csv = 'trip_detail.csv'\n",
    "    date_list = []\n",
    "    time_list = []\n",
    "    passen_list = []\n",
    "    with open(input_csv) as csvfile:\n",
    "        reader = csv.reader(csvfile, delimiter=' ')\n",
    "        count = 0\n",
    "        for row in reader:\n",
    "            if count != 0:\n",
    "                date = format_transform(row[0].split(',')[5])\n",
    "                date_list.append(date)\n",
    "                temp = row[1].split(',')\n",
    "                time_list.append(temp[0])\n",
    "                passen_list.append(int(temp[1]))\n",
    "            count+=1    \n",
    "    passen_frame = SFrame({'date': date_list, 'time': time_list, 'passenger': passen_list})\n",
    "    # Loop A: Going through the passen_frame and grap the value of date and time\n",
    "    # Loop B: Going through the passen_data, first check if it is a passenger,\n",
    "    # then see if the date matches, check if \n",
    "    # the time is within the interval of start_time and end_time. If both yes, then\n",
    "    # increment mac_count\n",
    "    count_list = []\n",
    "    lon_list = []\n",
    "    lat_list = []\n",
    "    stop_list = ['0']\n",
    "    id_list = []\n",
    "    date_list = ['0', '2018-03-06', '2018-03-01', '2018-02-26']\n",
    "    date_id = []\n",
    "    for i in passen_frame:\n",
    "        date = i['date']\n",
    "        time = i['time']\n",
    "        mac_count = 0\n",
    "        for j in passen_data:\n",
    "            if j['passenger'] == 1 and j['date'] == date:\n",
    "                if time_difference(j['start_time'], time) > 0 and time_difference(time, j['end_time']) > 0:\n",
    "                    mac_count += 1\n",
    "        count_list.append(mac_count)\n",
    "        mac_count = 0\n",
    "    return passen_frame.add_columns(SFrame({'count': count_list})), passen_list, count_list"
   ]
  },
  {
   "cell_type": "code",
   "execution_count": 49,
   "metadata": {
    "scrolled": true
   },
   "outputs": [
    {
     "name": "stdout",
     "output_type": "stream",
     "text": [
      "Kmeans performance: 107.41042779916668\n",
      "Guassian performance: 83.26463835266445\n",
      "Agglomerative Clustering performance: 113.91663618629195\n",
      "Spectral Clustering performance: 144.10065926289164\n"
     ]
    }
   ],
   "source": [
    "passen_frame_Gussian, passen_Gaussian, count_Gassian = get_labeled_data(pred_Gussian)\n",
    "passen_frame_Kmeans, passen_Kmeans, count_Kmeans = get_labeled_data(pred_kmeans)\n",
    "passen_frame_AC, passen_AC, count_AC = get_labeled_data(pred_AC)\n",
    "passen_frame_SC, passen_SC, count_SC = get_labeled_data(pred_SC)\n",
    "euc_Gaussian,_ = compute_data_difference(passen_Gaussian, count_Gassian)\n",
    "euc_kmeans,_ = compute_data_difference(passen_Kmeans, count_Kmeans)\n",
    "euc_AC,_ = compute_data_difference(passen_AC, count_AC)\n",
    "euc_SC,_ = compute_data_difference(passen_SC, count_SC)\n",
    "print(\"Kmeans performance:\", euc_kmeans)\n",
    "print(\"Guassian performance:\", euc_Gaussian)\n",
    "print(\"Agglomerative Clustering performance:\", euc_AC)\n",
    "print(\"Spectral Clustering performance:\", euc_SC)"
   ]
  },
  {
   "cell_type": "code",
   "execution_count": 52,
   "metadata": {},
   "outputs": [],
   "source": [
    "passen_frame_Gussian['conv_time'] = passen_frame_Gussian['time'].apply(lambda time: time_convert(time))\n",
    "passen_frame_Gussian['label'] = passen_frame_Gussian['passenger'].apply(lambda passenger: int(passenger))"
   ]
  },
  {
   "cell_type": "code",
   "execution_count": 110,
   "metadata": {},
   "outputs": [
    {
     "name": "stdout",
     "output_type": "stream",
     "text": [
      "Mean Abosulute Percentage Error:  0.5989304812834223\n",
      "Mean Square Error:  41.16883116883117\n",
      "Mean Abosulute Percentage Error:  0.2551566080977845\n",
      "Mean Square Error:  154.4935064935065\n"
     ]
    }
   ],
   "source": [
    "_, scalor_gaussian = compute_data_difference(passen_Gaussian, count_Gassian)\n",
    "_, scalor_kmeans = compute_data_difference(passen_Kmeans, count_Kmeans)\n",
    "# Multiply the mac counts by the number of scalor\n",
    "count_list_Gussian = multiply(count_Gassian, scalor_gaussian)\n",
    "count_list_Kmeans = multiply(count_Kmeans, scalor_kmeans)\n",
    "passen_frame_Gussian = passen_frame_Gussian.add_columns(SFrame({'cps': count_list_Gussian}))\n",
    "# Compute the error\n",
    "evaluate(SArray(passen_Gaussian), SArray(count_list_Gussian))\n",
    "evaluate(SArray(passen_Kmeans), SArray(count_list_Kmeans))"
   ]
  },
  {
   "cell_type": "code",
   "execution_count": 217,
   "metadata": {},
   "outputs": [
    {
     "data": {
      "image/png": "[encoded data removed]",
      "text/plain": [
       "<Figure size 432x288 with 1 Axes>"
      ]
     },
     "metadata": {
      "needs_background": "light"
     },
     "output_type": "display_data"
    }
   ],
   "source": [
    "passen_frame_Gussian = passen_frame_Gussian.sort(['conv_time'])\n",
    "plt.plot(passen_frame_Gussian['conv_time'], passen_frame_Gussian['label'], 'r-',\n",
    "         passen_frame_Gussian['conv_time'], passen_frame_Gussian['cps'], 'b-')\n",
    "plt.show()"
   ]
  },
  {
   "cell_type": "code",
   "execution_count": 186,
   "metadata": {},
   "outputs": [
    {
     "name": "stdout",
     "output_type": "stream",
     "text": [
      "Mean Abosulute Percentage Error:  0.048715667337433904\n",
      "Mean Square Error:  17.99410356977209\n"
     ]
    }
   ],
   "source": [
    "evaluate(test_data['label'], result)"
   ]
  },
  {
   "cell_type": "code",
   "execution_count": 216,
   "metadata": {
    "scrolled": true
   },
   "outputs": [
    {
     "data": {
      "image/png": "[encoded data removed]",
      "text/plain": [
       "<Figure size 432x288 with 1 Axes>"
      ]
     },
     "metadata": {
      "needs_background": "light"
     },
     "output_type": "display_data"
    },
    {
     "data": {
      "image/png": "[encoded data removed]",
      "text/plain": [
       "<Figure size 432x288 with 1 Axes>"
      ]
     },
     "metadata": {
      "needs_background": "light"
     },
     "output_type": "display_data"
    }
   ],
   "source": [
    "plt.figure(1)\n",
    "plt.plot(test_data['conv_time'], test_data['label'], 'rs',\n",
    "         test_data['conv_time'], result, 'b--')\n",
    "plt.figure(2)\n",
    "plt.plot(train_data['conv_time'][0:20], train_data['label'][0:20], 'r-',\n",
    "         train_data['conv_time'][0:20], trained_model.predict(train_data)[0:20], 'b-')\n",
    "plt.plot(train_data['conv_time'][20:65], train_data['label'][20:65], 'r-',\n",
    "         train_data['conv_time'][20:65], trained_model.predict(train_data)[20:65], 'b-')\n",
    "plt.show()"
   ]
  },
  {
   "cell_type": "code",
   "execution_count": null,
   "metadata": {},
   "outputs": [],
   "source": []
  }
 ],
 "metadata": {
  "kernelspec": {
   "display_name": "Python 3",
   "language": "python",
   "name": "python3"
  },
  "language_info": {
   "codemirror_mode": {
    "name": "ipython",
    "version": 3
   },
   "file_extension": ".py",
   "mimetype": "text/x-python",
   "name": "python",
   "nbconvert_exporter": "python",
   "pygments_lexer": "ipython3",
   "version": "3.6.6"
  }
 },
 "nbformat": 4,
 "nbformat_minor": 2
}
